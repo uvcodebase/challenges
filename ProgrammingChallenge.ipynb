{
 "metadata": {
  "name": "",
  "signature": "sha256:82ef8482c6914c0070fd2367f8734fb8a71a9569b3fa09c88082838d88186a14"
 },
 "nbformat": 3,
 "nbformat_minor": 0,
 "worksheets": [
  {
   "cells": [
    {
     "cell_type": "code",
     "collapsed": false,
     "input": [
      "%pylab inline"
     ],
     "language": "python",
     "metadata": {},
     "outputs": [
      {
       "output_type": "stream",
       "stream": "stdout",
       "text": [
        "Populating the interactive namespace from numpy and matplotlib\n"
       ]
      }
     ],
     "prompt_number": 1
    },
    {
     "cell_type": "code",
     "collapsed": false,
     "input": [
      "# Given a bar chart, find the rectangle with the largest area\n",
      "N = 32\n",
      "bin_number = np.arange(N)\n",
      "height = np.round(np.random.rand(N) * N)\n",
      "#height = (np.random.rand(N) * N)\n",
      "bar(bin_number, height, 1)"
     ],
     "language": "python",
     "metadata": {},
     "outputs": [
      {
       "metadata": {},
       "output_type": "pyout",
       "prompt_number": 2,
       "text": [
        "<Container object of 32 artists>"
       ]
      },
      {
       "metadata": {},
       "output_type": "display_data",
       "png": "[encoded data removed]",
       "text": [
        "<matplotlib.figure.Figure at 0x7f34b7ba1810>"
       ]
      }
     ],
     "prompt_number": 2
    },
    {
     "cell_type": "code",
     "collapsed": false,
     "input": [
      "def draw_box(att, **kwargs):\n",
      "    x = np.array([att[0], att[1], att[1], att[0], att[0]]) \n",
      "    y = np.array([0, 0, att[2], att[2], 0])\n",
      "    plot(x, y, **kwargs)"
     ],
     "language": "python",
     "metadata": {},
     "outputs": [],
     "prompt_number": 3
    },
    {
     "cell_type": "code",
     "collapsed": false,
     "input": [
      "left = [-1, 0]\n",
      "bar(bin_number, height, 1, color=(0.5, 0.5, 0.5))\n",
      "rect_height = [-1, height[0]]\n",
      "max_area = 0\n",
      "max_attributes = []\n",
      "def area(att):\n",
      "    return (att[1] - att[0]) * att[2]\n",
      "for i in xrange(1, N):\n",
      "    #print 'i', i, 'height', height[i], left, rect_height, max_attributes, max_area\n",
      "    popped = False\n",
      "    while height[i] < rect_height[-1]:\n",
      "        popped = True\n",
      "        attributes = [left.pop(), i, rect_height.pop()]\n",
      "        draw_box(attributes, lw=2)\n",
      "        a = area(attributes)\n",
      "        print a,\n",
      "        if a > max_area:\n",
      "            max_attributes = attributes\n",
      "            max_area = a\n",
      "    #print 'i', i, 'popped', popped, '1', height[i] > rect_height[-1], '2', popped, '3', height[i] < height[i]        \n",
      "    if popped:\n",
      "        rect_height.append(height[i])\n",
      "        left.append(attributes[0])\n",
      "    elif height[i] > rect_height[-1]:\n",
      "        rect_height.append(height[i])\n",
      "        left.append(i)\n",
      "    \n",
      "    #elif height[i] < rect_height[-1]:\n",
      "    #    rect_height.append(height[i])\n",
      "    #    left.append(left[-1] + 1)\n",
      "    #    print 'here'\n",
      "       \n",
      "#print 'i', i, 'height', height[i], left, rect_height, max_attributes, max_area\n",
      "i += 1\n",
      "while len(left) > 1:\n",
      "    attributes = [left.pop(), i, rect_height.pop()]\n",
      "    draw_box(attributes)\n",
      "    a = area(attributes)\n",
      "    print a,\n",
      "    if a > max_area:\n",
      "        max_attributes = attributes\n",
      "        max_area = a\n",
      "        \n",
      "draw_box(max_attributes, color=(0, 1, 0), marker='s', lw=6)        \n",
      "draw_box(max_attributes, color='w', lw=2)        \n",
      "print '\\n', max_area, max_attributes        "
     ],
     "language": "python",
     "metadata": {},
     "outputs": [
      {
       "output_type": "stream",
       "stream": "stdout",
       "text": [
        "21.0 27.0 23.0 54.0 70.0 84.0 84.0 26.0 28.0 46.0 63.0 85.0 26.0 40.0 80.0 144.0 28.0 52.0 60.0 68.0 63.0 14.0 11.0 21.0 29.0 50.0 69.0 80.0 24.0 96.0 40.0 32.0 \n",
        "144.0 [0, 16, 9.0]\n"
       ]
      },
      {
       "metadata": {},
       "output_type": "display_data",
       "png": "[encoded data removed]",
       "text": [
        "<matplotlib.figure.Figure at 0x7f34b643b110>"
       ]
      }
     ],
     "prompt_number": 4
    }
   ],
   "metadata": {}
  }
 ]
}